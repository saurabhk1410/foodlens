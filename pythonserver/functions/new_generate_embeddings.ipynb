{
 "cells": [
  {
   "cell_type": "code",
   "execution_count": 2,
   "id": "d0aacc28",
   "metadata": {},
   "outputs": [
    {
     "name": "stderr",
     "output_type": "stream",
     "text": [
      "c:\\Users\\Diksha Velhal\\Desktop\\semanticsearch\\.venv\\Lib\\site-packages\\tqdm\\auto.py:21: TqdmWarning: IProgress not found. Please update jupyter and ipywidgets. See https://ipywidgets.readthedocs.io/en/stable/user_install.html\n",
      "  from .autonotebook import tqdm as notebook_tqdm\n"
     ]
    }
   ],
   "source": [
    "import pandas as pd\n",
    "import numpy as np\n",
    "from sentence_transformers import SentenceTransformer\n",
    "import faiss\n",
    "import pickle"
   ]
  },
  {
   "cell_type": "code",
   "execution_count": 3,
   "id": "1b99ebda",
   "metadata": {},
   "outputs": [],
   "source": [
    "restaurants_df = pd.read_csv('../dataset_new/restaurant_dataset_clean.csv')\n",
    "dishes_df = pd.read_csv('../dataset_new/dishes_dataset_clean.csv')\n",
    "reviews_df = pd.read_csv('../dataset_new/reviews_dataset_clean.csv')\n"
   ]
  },
  {
   "cell_type": "code",
   "execution_count": 4,
   "id": "3782ecc0",
   "metadata": {},
   "outputs": [],
   "source": [
    "model = SentenceTransformer('all-MiniLM-L6-v2')"
   ]
  },
  {
   "cell_type": "code",
   "execution_count": 20,
   "id": "608435c5",
   "metadata": {},
   "outputs": [],
   "source": [
    "def build_restaurant_text(rid, max_dishes=3, max_reviews=2):\n",
    "    r = restaurants_df.loc[restaurants_df['restaurant_id'] == rid].iloc[0]\n",
    "    text = (\n",
    "        f\"{r['name']} is a {r['restaurant_type']} restaurant in {r['location']}, {r['city']} \"\n",
    "        f\"serving {r['cuisine_category']}. Average price for two: ₹{r['price_for_two']}, \"\n",
    "        f\"Votes: {r['votes']}, Open: {r['timing']}.\"\n",
    "    )\n",
    "\n",
    "    # Top dishes\n",
    "    dishes = dishes_df[dishes_df['restaurant_id'] == rid].sort_values('rating', ascending=False).head(max_dishes)\n",
    "    dish_texts = [f\"{d['name']} ({d['category']}, {d['type']}, {d['cuisine']}, ₹{d['cost']})\" for _, d in dishes.iterrows()]\n",
    "    if dish_texts:\n",
    "        text += \" Dishes: \" + \"; \".join(dish_texts)\n",
    "\n",
    "    # Top reviews\n",
    "    reviews = reviews_df[reviews_df['restaurant_id'] == rid].sort_values('rating', ascending=False).head(max_reviews)\n",
    "    review_texts = []\n",
    "    for _, rev in reviews.iterrows():\n",
    "        attrs = [f\"{field}: {rev[field]}\" for field in ['ambiance','occasion','dietary','features','sentiment'] if pd.notna(rev.get(field))]\n",
    "        attr_text = \", \".join(attrs)\n",
    "        review_texts.append(f\"{rev['review_text']} {attr_text}\")\n",
    "    if review_texts:\n",
    "        text += \" Reviews: \" + \"; \".join(review_texts)\n",
    "\n",
    "    dish_ids = dishes['dish_id'].tolist()\n",
    "    review_ids = reviews['review_id'].tolist()\n",
    "\n",
    "    return text, dish_ids, review_ids"
   ]
  },
  {
   "cell_type": "code",
   "execution_count": 21,
   "id": "d3d1a581",
   "metadata": {},
   "outputs": [],
   "source": [
    "restaurant_ids = restaurants_df['restaurant_id'].tolist()\n",
    "restaurant_embeddings = []\n",
    "restaurant_meta = {}\n",
    "\n",
    "for idx, rid in enumerate(restaurant_ids):\n",
    "    text, dish_ids, review_ids = build_restaurant_text(rid)\n",
    "    vector = model.encode(text).astype('float32')\n",
    "    restaurant_embeddings.append(vector)\n",
    "\n",
    "    r = restaurants_df.loc[restaurants_df['restaurant_id'] == rid].iloc[0]\n",
    "    restaurant_meta[rid] = {  # <-- Use actual restaurant_id as key\n",
    "        \"restaurant_id\": int(r['restaurant_id']),\n",
    "        \"location\": r['location'],\n",
    "        \"cuisine_category\": r['cuisine_category'],\n",
    "        \"dish_ids\": [int(d) for d in dish_ids],\n",
    "        \"review_ids\": [int(rid) for rid in review_ids if pd.notna(rid)]\n",
    "    }\n",
    "\n",
    "restaurant_embeddings = np.vstack(restaurant_embeddings).astype('float32')"
   ]
  },
  {
   "cell_type": "code",
   "execution_count": null,
   "id": "9197f3fa",
   "metadata": {},
   "outputs": [],
   "source": [
    "dish_texts = dishes_df.apply(\n",
    "    lambda d: f\"{d['name']} ({d['category']}, {d['type']}, {d['cuisine']}, ₹{d['cost']})\", axis=1\n",
    ").tolist()\n",
    "dish_vectors = model.encode(dish_texts).astype('float32')\n",
    "\n",
    "dish_meta = {\n",
    "    int(d['dish_id']): {\n",
    "        \"dish_id\": int(d['dish_id']),\n",
    "        \"restaurant_id\": int(d['restaurant_id']),\n",
    "        \"cuisine\": d['cuisine'],\n",
    "        \"category\": d['category'],\n",
    "        \"type\": d['type'],\n",
    "        \"cost\": d['cost']\n",
    "    } for _, d in dishes_df.iterrows()\n",
    "}\n",
    "\n",
    "# ------------------------------\n",
    "# Generate review embeddings\n",
    "# ------------------------------\n",
    "review_texts = reviews_df.apply(\n",
    "    lambda r: r['review_text'] + \" \" + \", \".join(\n",
    "        f\"{field}: {r[field]}\" for field in ['ambiance','occasion','dietary','features','sentiment'] if pd.notna(r[field])\n",
    "    ), axis=1\n",
    ").tolist()\n",
    "review_vectors = model.encode(review_texts).astype('float32')\n",
    "\n",
    "review_meta = {\n",
    "    int(r['review_id']): {\n",
    "        \"review_id\": int(r['review_id']),\n",
    "        \"restaurant_id\": int(r['restaurant_id']),\n",
    "        \"dish_id\": int(r['dish_id']) if pd.notna(r['dish_id']) else None,\n",
    "        \"rating\": r['rating']\n",
    "    } for _, r in reviews_df.iterrows()\n",
    "}"
   ]
  },
  {
   "cell_type": "code",
   "execution_count": 23,
   "id": "58786a16",
   "metadata": {},
   "outputs": [],
   "source": [
    "dim = restaurant_embeddings.shape[1]\n",
    "\n",
    "restaurant_index = faiss.IndexFlatL2(dim)\n",
    "restaurant_index.add(restaurant_embeddings)\n",
    "\n",
    "dish_index = faiss.IndexFlatL2(dim)\n",
    "dish_index.add(dish_vectors)\n",
    "\n",
    "review_index = faiss.IndexFlatL2(dim)\n",
    "review_index.add(review_vectors)"
   ]
  },
  {
   "cell_type": "code",
   "execution_count": 24,
   "id": "0caf816e",
   "metadata": {},
   "outputs": [
    {
     "name": "stdout",
     "output_type": "stream",
     "text": [
      "All embeddings and FAISS indexes are ready!\n"
     ]
    }
   ],
   "source": [
    "faiss.write_index(restaurant_index, \"restaurant_index.faiss\")\n",
    "faiss.write_index(dish_index, \"dish_index.faiss\")\n",
    "faiss.write_index(review_index, \"review_index.faiss\")\n",
    "\n",
    "with open(\"restaurant_meta.pkl\", \"wb\") as f:\n",
    "    pickle.dump(restaurant_meta, f)\n",
    "with open(\"dish_meta.pkl\", \"wb\") as f:\n",
    "    pickle.dump(dish_meta, f)\n",
    "with open(\"review_meta.pkl\", \"wb\") as f:\n",
    "    pickle.dump(review_meta, f)\n",
    "\n",
    "print(\"All embeddings and FAISS indexes are ready!\")"
   ]
  },
  {
   "cell_type": "code",
   "execution_count": 25,
   "id": "81a773aa",
   "metadata": {},
   "outputs": [
    {
     "name": "stdout",
     "output_type": "stream",
     "text": [
      "Restaurant meta sample:\n",
      "1 {'restaurant_id': 1, 'location': 'Andheri', 'cuisine_category': 'North Indian, Chinese, Biryani, Continental, American, Fast Food', 'dish_ids': [9, 4, 8], 'review_ids': [1, 2]}\n",
      "2 {'restaurant_id': 2, 'location': 'Andheri', 'cuisine_category': 'Desserts', 'dish_ids': [12, 13, 20], 'review_ids': [6, 5]}\n",
      "3 {'restaurant_id': 3, 'location': 'Andheri', 'cuisine_category': 'Chinese', 'dish_ids': [22, 25, 21], 'review_ids': [7, 8]}\n",
      "\n",
      "Dish meta sample:\n",
      "1 {'dish_id': 1, 'restaurant_id': 1, 'cuisine': 'Fast Food', 'category': 'Snack', 'type': 'Veg', 'cost': 285}\n",
      "2 {'dish_id': 2, 'restaurant_id': 1, 'cuisine': 'Continental', 'category': 'Bread', 'type': 'Seafood', 'cost': 455}\n",
      "3 {'dish_id': 3, 'restaurant_id': 1, 'cuisine': 'Chinese', 'category': 'Starter', 'type': 'Veg', 'cost': 980}\n",
      "\n",
      "Review meta sample:\n",
      "1 {'review_id': 1, 'restaurant_id': 1, 'dish_id': 9, 'rating': 5}\n",
      "2 {'review_id': 2, 'restaurant_id': 1, 'dish_id': 9, 'rating': 5}\n",
      "3 {'review_id': 3, 'restaurant_id': 1, 'dish_id': None, 'rating': 5}\n"
     ]
    }
   ],
   "source": [
    "import pickle\n",
    "\n",
    "# Load and print restaurant metadata\n",
    "with open(\"restaurant_meta.pkl\", \"rb\") as f:\n",
    "    restaurant_meta = pickle.load(f)\n",
    "\n",
    "print(\"Restaurant meta sample:\")\n",
    "for i, (k, v) in enumerate(restaurant_meta.items()):\n",
    "    print(k, v)\n",
    "    if i >= 2:  # print only first 3 entries\n",
    "        break\n",
    "\n",
    "# Load and print dish metadata\n",
    "with open(\"dish_meta.pkl\", \"rb\") as f:\n",
    "    dish_meta = pickle.load(f)\n",
    "\n",
    "print(\"\\nDish meta sample:\")\n",
    "for i, (k, v) in enumerate(dish_meta.items()):\n",
    "    print(k, v)\n",
    "    if i >= 2:\n",
    "        break\n",
    "\n",
    "# Load and print review metadata\n",
    "with open(\"review_meta.pkl\", \"rb\") as f:\n",
    "    review_meta = pickle.load(f)\n",
    "\n",
    "print(\"\\nReview meta sample:\")\n",
    "for i, (k, v) in enumerate(review_meta.items()):\n",
    "    print(k, v)\n",
    "    if i >= 2:\n",
    "        break\n"
   ]
  }
 ],
 "metadata": {
  "kernelspec": {
   "display_name": ".venv",
   "language": "python",
   "name": "python3"
  },
  "language_info": {
   "codemirror_mode": {
    "name": "ipython",
    "version": 3
   },
   "file_extension": ".py",
   "mimetype": "text/x-python",
   "name": "python",
   "nbconvert_exporter": "python",
   "pygments_lexer": "ipython3",
   "version": "3.13.3"
  }
 },
 "nbformat": 4,
 "nbformat_minor": 5
}
